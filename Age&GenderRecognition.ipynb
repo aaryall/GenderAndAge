{
  "nbformat": 4,
  "nbformat_minor": 0,
  "metadata": {
    "colab": {
      "name": "Age&GenderRecognition.ipynb",
      "provenance": [],
      "collapsed_sections": []
    },
    "kernelspec": {
      "name": "python3",
      "display_name": "Python 3"
    }
  },
  "cells": [
    {
      "cell_type": "markdown",
      "metadata": {
        "id": "JVEieML5rQ7U",
        "colab_type": "text"
      },
      "source": [
        "**[Downloading The IMDB-WIKI dataset](https://data.vision.ee.ethz.ch/cvl/rrothe/imdb-wiki/)**"
      ]
    },
    {
      "cell_type": "code",
      "metadata": {
        "id": "wEn7k7FOfrTr",
        "colab_type": "code",
        "colab": {
          "base_uri": "https://localhost:8080/",
          "height": 208
        },
        "outputId": "043bab1e-d1fb-4ba1-d1ea-3ef954c685b7"
      },
      "source": [
        "!wget https://data.vision.ee.ethz.ch/cvl/rrothe/imdb-wiki/static/imdb_crop.tar"
      ],
      "execution_count": null,
      "outputs": [
        {
          "output_type": "stream",
          "text": [
            "--2020-09-25 14:01:31--  https://data.vision.ee.ethz.ch/cvl/rrothe/imdb-wiki/static/imdb_crop.tar\n",
            "Resolving data.vision.ee.ethz.ch (data.vision.ee.ethz.ch)... 129.132.52.162\n",
            "Connecting to data.vision.ee.ethz.ch (data.vision.ee.ethz.ch)|129.132.52.162|:443... connected.\n",
            "HTTP request sent, awaiting response... 200 OK\n",
            "Length: 7012157440 (6.5G) [application/x-tar]\n",
            "Saving to: ‘imdb_crop.tar’\n",
            "\n",
            "imdb_crop.tar       100%[===================>]   6.53G  10.9MB/s    in 10m 32s \n",
            "\n",
            "2020-09-25 14:12:04 (10.6 MB/s) - ‘imdb_crop.tar’ saved [7012157440/7012157440]\n",
            "\n"
          ],
          "name": "stdout"
        }
      ]
    },
    {
      "cell_type": "code",
      "metadata": {
        "id": "eedlkA8zgCQf",
        "colab_type": "code",
        "colab": {
          "base_uri": "https://localhost:8080/",
          "height": 208
        },
        "outputId": "c7738a54-6d5e-4dcb-db34-37d30ee89d95"
      },
      "source": [
        "!wget https://data.vision.ee.ethz.ch/cvl/rrothe/imdb-wiki/static/wiki_crop.tar"
      ],
      "execution_count": null,
      "outputs": [
        {
          "output_type": "stream",
          "text": [
            "--2020-09-25 14:12:06--  https://data.vision.ee.ethz.ch/cvl/rrothe/imdb-wiki/static/wiki_crop.tar\n",
            "Resolving data.vision.ee.ethz.ch (data.vision.ee.ethz.ch)... 129.132.52.162\n",
            "Connecting to data.vision.ee.ethz.ch (data.vision.ee.ethz.ch)|129.132.52.162|:443... connected.\n",
            "HTTP request sent, awaiting response... 200 OK\n",
            "Length: 811315200 (774M) [application/x-tar]\n",
            "Saving to: ‘wiki_crop.tar’\n",
            "\n",
            "wiki_crop.tar       100%[===================>] 773.73M  11.2MB/s    in 73s     \n",
            "\n",
            "2020-09-25 14:13:21 (10.5 MB/s) - ‘wiki_crop.tar’ saved [811315200/811315200]\n",
            "\n"
          ],
          "name": "stdout"
        }
      ]
    },
    {
      "cell_type": "markdown",
      "metadata": {
        "id": "RfujfvG0rmjD",
        "colab_type": "text"
      },
      "source": [
        "Unzipping the files"
      ]
    },
    {
      "cell_type": "code",
      "metadata": {
        "id": "UzpyXxY-YtIV",
        "colab_type": "code",
        "colab": {}
      },
      "source": [
        "!tar -xf wiki_crop.tar\n",
        "!tar -xf imdb_crop.tar\n"
      ],
      "execution_count": null,
      "outputs": []
    },
    {
      "cell_type": "code",
      "metadata": {
        "id": "GTX0uT7F6EJN",
        "colab_type": "code",
        "colab": {
          "base_uri": "https://localhost:8080/",
          "height": 86
        },
        "outputId": "682b346a-763a-4508-815a-3012b4a7857e"
      },
      "source": [
        "ls sample_data/imdb_crop/imdb.mat"
      ],
      "execution_count": 47,
      "outputs": [
        {
          "output_type": "stream",
          "text": [
            "\u001b[0m\u001b[01;32manscombe.json\u001b[0m*                imdb_crop.tar          \u001b[01;34mwiki_crop\u001b[0m/\n",
            "california_housing_test.csv   mnist_test.csv         wiki_crop.tar\n",
            "california_housing_train.csv  mnist_train_small.csv\n",
            "\u001b[01;34mimdb_crop\u001b[0m/                    \u001b[01;32mREADME.md\u001b[0m*\n"
          ],
          "name": "stdout"
        }
      ]
    },
    {
      "cell_type": "code",
      "metadata": {
        "id": "rIRlgtPY4Vbq",
        "colab_type": "code",
        "colab": {
          "base_uri": "https://localhost:8080/",
          "height": 471
        },
        "outputId": "b77e571f-4687-467c-a2c3-7f4aa0648e2a"
      },
      "source": [
        "import scipy.io as sio\n",
        "imdb_mat = sio.loadmat('sample_data/imdb_crop/imdb.mat')\n",
        "print(imdb_mat['imdb'])\n",
        "\n"
      ],
      "execution_count": 58,
      "outputs": [
        {
          "output_type": "stream",
          "text": [
            "[[(array([[693726, 693726, 693726, ..., 726831, 726831, 726831]], dtype=int32), array([[1968, 1970, 1968, ..., 2011, 2011, 2011]], dtype=uint16), array([[array(['01/nm0000001_rm124825600_1899-5-10_1968.jpg'], dtype='<U43'),\n",
            "        array(['01/nm0000001_rm3343756032_1899-5-10_1970.jpg'], dtype='<U44'),\n",
            "        array(['01/nm0000001_rm577153792_1899-5-10_1968.jpg'], dtype='<U43'),\n",
            "        ...,\n",
            "        array(['08/nm3994408_rm926592512_1989-12-29_2011.jpg'], dtype='<U44'),\n",
            "        array(['08/nm3994408_rm943369728_1989-12-29_2011.jpg'], dtype='<U44'),\n",
            "        array(['08/nm3994408_rm976924160_1989-12-29_2011.jpg'], dtype='<U44')]],\n",
            "      dtype=object), array([[1., 1., 1., ..., 0., 0., 0.]]), array([[array(['Fred Astaire'], dtype='<U12'),\n",
            "        array(['Fred Astaire'], dtype='<U12'),\n",
            "        array(['Fred Astaire'], dtype='<U12'), ...,\n",
            "        array(['Jane Levy'], dtype='<U9'),\n",
            "        array(['Jane Levy'], dtype='<U9'),\n",
            "        array(['Jane Levy'], dtype='<U9')]], dtype=object), array([[array([[1072.926,  161.838, 1214.784,  303.696]]),\n",
            "        array([[477.184, 100.352, 622.592, 245.76 ]]),\n",
            "        array([[114.96964309, 114.96964309, 451.68657236, 451.68657236]]),\n",
            "        ..., array([[  1,   1, 453, 640]], dtype=uint16),\n",
            "        array([[144.75225472, 126.76472288, 305.78804127, 287.80050943]]),\n",
            "        array([[457.524,  41.748, 518.016, 102.24 ]])]], dtype=object), array([[1.45969291, 2.5431976 , 3.45557949, ...,       -inf, 4.45072452,\n",
            "        2.13350269]]), array([[1.11897336, 1.85200773, 2.98566022, ...,        nan,        nan,\n",
            "               nan]]), array([[array([\"'Lee' George Quinones\"], dtype='<U21'),\n",
            "        array([\"'Weird Al' Yankovic\"], dtype='<U19'),\n",
            "        array(['2 Chainz'], dtype='<U8'), ...,\n",
            "        array(['Éric Caravaca'], dtype='<U13'),\n",
            "        array(['Ólafur Darri Ólafsson'], dtype='<U21'),\n",
            "        array(['Óscar Jaenada'], dtype='<U13')]], dtype=object), array([[6488, 6488, 6488, ..., 8410, 8410, 8410]], dtype=uint16))]]\n"
          ],
          "name": "stdout"
        }
      ]
    },
    {
      "cell_type": "code",
      "metadata": {
        "id": "jbdvg5ZV5jfn",
        "colab_type": "code",
        "colab": {}
      },
      "source": [
        ""
      ],
      "execution_count": null,
      "outputs": []
    }
  ]
}